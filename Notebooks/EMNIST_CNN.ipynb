{
 "cells": [
  {
   "cell_type": "markdown",
   "id": "7649b4d2",
   "metadata": {},
   "source": [
    "# EMNIST Dataset Classification Part 2: Neural Networks\n",
    "\n",
    "Alright, time to move on to (in my opinion), the fun stuff: artificial neural network techniques. We'll go over both a standard, 2 layer densely connected neural network, and then do a couple of examples of CNNs.\n"
   ]
  },
  {
   "cell_type": "code",
   "execution_count": 1,
   "id": "2e4e92f2",
   "metadata": {},
   "outputs": [],
   "source": [
    "import tensorflow as tf\n",
    "import keras\n",
    "from keras.models import Sequential\n",
    "from keras.layers import Dense, Conv2D, Flatten, LeakyReLU, MaxPooling2D\n",
    "from keras.layers import InputLayer\n",
    "import numpy as np\n",
    "from sklearn.model_selection import train_test_split\n",
    "import matplotlib.pyplot as plt"
   ]
  },
  {
   "cell_type": "code",
   "execution_count": 2,
   "id": "52ad72a2",
   "metadata": {},
   "outputs": [],
   "source": [
    "from scipy.io import loadmat\n",
    "\n",
    "full = loadmat('EMNIST_Data/emnist-byclass.mat')\n",
    "data = full['dataset']\n",
    "del full\n",
    "arrs = data[0][0][0][0][0][0]\n",
    "labels = data[0][0][0][0][0][1]"
   ]
  },
  {
   "cell_type": "markdown",
   "id": "d85a4e3b",
   "metadata": {},
   "source": [
    "### Multi-layer Perceptron Architecture\n",
    "\n",
    "Here we will be using densely connected layers with 2 hidden layers with ReLU activations. This treats the inputs in very much the same way as we would with standard classification techniques; that is that our inputs will be 784x1 features passed directly into the network."
   ]
  },
  {
   "cell_type": "code",
   "execution_count": 28,
   "id": "551aa1d0",
   "metadata": {},
   "outputs": [],
   "source": [
    "train_X, test_X, train_y, test_y = train_test_split(arrs,labels, test_size=.33)"
   ]
  },
  {
   "cell_type": "code",
   "execution_count": 5,
   "id": "1d15ad35",
   "metadata": {},
   "outputs": [],
   "source": [
    "#normalizing, i.e., forcing on (0,1)\n",
    "\n",
    "train_norm = train_X.astype('float32')\n",
    "test_norm = test_X.astype('float32')\n",
    "# normalize to range [0-1]\n",
    "train_norm = train_norm / 255.0\n",
    "test_norm = test_norm / 255.0"
   ]
  },
  {
   "cell_type": "code",
   "execution_count": 6,
   "id": "7374ca68",
   "metadata": {},
   "outputs": [],
   "source": [
    "train_y = tf.keras.utils.to_categorical(train_y)\n",
    "test_y = tf.keras.utils.to_categorical(test_y)"
   ]
  },
  {
   "cell_type": "code",
   "execution_count": 5,
   "id": "791c9580",
   "metadata": {},
   "outputs": [],
   "source": [
    "batch_size = 64\n",
    "epochs = 10\n",
    "num_classes = 62"
   ]
  },
  {
   "cell_type": "code",
   "execution_count": 8,
   "id": "b02a8791",
   "metadata": {},
   "outputs": [],
   "source": [
    "dense_model = Sequential()\n",
    "dense_model.add(InputLayer(input_shape=784,))\n",
    "dense_model.add(Dense(256, activation='relu'))\n",
    "dense_model.add(Dense(128, activation='relu'))\n",
    "dense_model.add(Dense(62, activation='softmax'))\n"
   ]
  },
  {
   "cell_type": "code",
   "execution_count": 9,
   "id": "a12b1bf5",
   "metadata": {},
   "outputs": [
    {
     "name": "stdout",
     "output_type": "stream",
     "text": [
      "Model: \"sequential\"\n",
      "_________________________________________________________________\n",
      "Layer (type)                 Output Shape              Param #   \n",
      "=================================================================\n",
      "dense (Dense)                (None, 256)               200960    \n",
      "_________________________________________________________________\n",
      "dense_1 (Dense)              (None, 128)               32896     \n",
      "_________________________________________________________________\n",
      "dense_2 (Dense)              (None, 62)                7998      \n",
      "=================================================================\n",
      "Total params: 241,854\n",
      "Trainable params: 241,854\n",
      "Non-trainable params: 0\n",
      "_________________________________________________________________\n"
     ]
    }
   ],
   "source": [
    "dense_model.compile(loss=keras.losses.categorical_crossentropy, \n",
    "                   optimizer=keras.optimizers.Adam(),\n",
    "                   metrics=['accuracy'])\n",
    "\n",
    "\n",
    "dense_model.summary()"
   ]
  },
  {
   "cell_type": "code",
   "execution_count": 10,
   "id": "3545f34b",
   "metadata": {},
   "outputs": [
    {
     "name": "stdout",
     "output_type": "stream",
     "text": [
      "Epoch 1/10\n",
      "7307/7307 [==============================] - 37s 3ms/step - loss: 0.9145 - accuracy: 0.7318\n",
      "Epoch 2/10\n",
      "7307/7307 [==============================] - 25s 3ms/step - loss: 0.4981 - accuracy: 0.8276\n",
      "Epoch 3/10\n",
      "7307/7307 [==============================] - 31s 4ms/step - loss: 0.4529 - accuracy: 0.8393\n",
      "Epoch 4/10\n",
      "7307/7307 [==============================] - 28s 4ms/step - loss: 0.4298 - accuracy: 0.8451\n",
      "Epoch 5/10\n",
      "7307/7307 [==============================] - 24s 3ms/step - loss: 0.4155 - accuracy: 0.8479\n",
      "Epoch 6/10\n",
      "7307/7307 [==============================] - 31s 4ms/step - loss: 0.4023 - accuracy: 0.8532\n",
      "Epoch 7/10\n",
      "7307/7307 [==============================] - 30s 4ms/step - loss: 0.3953 - accuracy: 0.8540\n",
      "Epoch 8/10\n",
      "7307/7307 [==============================] - 35s 5ms/step - loss: 0.3854 - accuracy: 0.8565\n",
      "Epoch 9/10\n",
      "7307/7307 [==============================] - 34s 5ms/step - loss: 0.3799 - accuracy: 0.8582\n",
      "Epoch 10/10\n",
      "7307/7307 [==============================] - 24s 3ms/step - loss: 0.3749 - accuracy: 0.8602\n"
     ]
    }
   ],
   "source": [
    "dense_hist = dense_model.fit(train_norm, train_y, batch_size=batch_size,epochs=epochs,verbose=1)"
   ]
  },
  {
   "cell_type": "code",
   "execution_count": 11,
   "id": "6d8685eb",
   "metadata": {},
   "outputs": [
    {
     "name": "stdout",
     "output_type": "stream",
     "text": [
      "7198/7198 [==============================] - 15s 2ms/step - loss: 0.4703 - accuracy: 0.8419\n"
     ]
    },
    {
     "data": {
      "text/plain": [
       "[0.4702737331390381, 0.8419315814971924]"
      ]
     },
     "execution_count": 11,
     "metadata": {},
     "output_type": "execute_result"
    }
   ],
   "source": [
    "dense_model.evaluate(test_norm,test_y)"
   ]
  },
  {
   "cell_type": "code",
   "execution_count": 12,
   "id": "99edafa3",
   "metadata": {},
   "outputs": [
    {
     "data": {
      "text/plain": [
       "{'loss': [0.6729996800422668,\n",
       "  0.4906005561351776,\n",
       "  0.45422446727752686,\n",
       "  0.43468278646469116,\n",
       "  0.42019858956336975,\n",
       "  0.4094458520412445,\n",
       "  0.40182241797447205,\n",
       "  0.39405667781829834,\n",
       "  0.3877074420452118,\n",
       "  0.38273441791534424],\n",
       " 'accuracy': [0.7857100367546082,\n",
       "  0.8296971321105957,\n",
       "  0.8391429781913757,\n",
       "  0.8440743684768677,\n",
       "  0.8476927280426025,\n",
       "  0.8506439328193665,\n",
       "  0.8521429896354675,\n",
       "  0.8545659184455872,\n",
       "  0.8559987545013428,\n",
       "  0.8581351041793823]}"
      ]
     },
     "execution_count": 12,
     "metadata": {},
     "output_type": "execute_result"
    }
   ],
   "source": [
    "dense_hist.history"
   ]
  },
  {
   "cell_type": "code",
   "execution_count": 29,
   "id": "27a04ed6",
   "metadata": {},
   "outputs": [
    {
     "data": {
      "image/png": "[encoded data removed]",
      "text/plain": [
       "<Figure size 432x288 with 1 Axes>"
      ]
     },
     "metadata": {
      "needs_background": "light"
     },
     "output_type": "display_data"
    }
   ],
   "source": [
    "loss = dense_hist.history['loss']\n",
    "accuracy = dense_hist.history['accuracy']\n",
    "\n",
    "plt.plot(range(len(loss)),loss,label = 'loss')\n",
    "plt.plot(range(len(loss)),accuracy, label = 'accuracy')\n",
    "plt.title(\"Accuracy and Loss\")\n",
    "plt.xlabel(\"Epochs\")\n",
    "plt.legend();"
   ]
  },
  {
   "cell_type": "code",
   "execution_count": null,
   "id": "86539b4b",
   "metadata": {},
   "outputs": [],
   "source": []
  },
  {
   "cell_type": "markdown",
   "id": "393ef9eb",
   "metadata": {},
   "source": [
    "### Convolutional Neural Networks:\n",
    "In case you've never encountered the concept before, CNNs are a particular type of artificial neural network that employ a particular matrix operation (convolutions) as a part of their network architecture. As it turns out, this particular operation is very useful when it comes to employing neural networks to handle images, as we're doing here. I'll play around a bit with a couple of different network architectures, trying to employ a variety of layer types to see if we can see a noticeable difference in network accuracy."
   ]
  },
  {
   "cell_type": "markdown",
   "id": "ab1b9483",
   "metadata": {},
   "source": [
    "### A simple CNN:"
   ]
  },
  {
   "cell_type": "code",
   "execution_count": null,
   "id": "3922947b",
   "metadata": {},
   "outputs": [],
   "source": []
  },
  {
   "cell_type": "code",
   "execution_count": 3,
   "id": "a6983fbe",
   "metadata": {},
   "outputs": [],
   "source": [
    "arrs = arrs.reshape((arrs.shape[0],28,28,1))\n",
    "X=np.empty((len(arrs),28,28))\n",
    "for i in range(len(arrs)):\n",
    "    X[i]= arrs[i].T\n",
    "    #for whatever reason, EMNIST comes in a transposed state out-of-the-box. This is not necessary for training\n",
    "    #a CNN, but it does make me feel better, I suppose.\n",
    "\n",
    "train_X, test_X, train_y, test_y = train_test_split(X,labels, test_size=.33)\n",
    "\n",
    "#reshaping to image shapes\n",
    "train_X_CNN = train_X.reshape((train_X.shape[0], 28, 28, 1))\n",
    "test_X_CNN = test_X.reshape((test_X.shape[0], 28, 28, 1))\n",
    "\n",
    "train_norm_CNN = train_X.astype('float32')\n",
    "test_norm_CNN = test_X.astype('float32')\n",
    "# normalize to range [0-1]\n",
    "train_norm_CNN = train_norm_CNN / 255.0\n",
    "test_norm_CNN = test_norm_CNN / 255.0"
   ]
  },
  {
   "cell_type": "code",
   "execution_count": 5,
   "id": "6b64eefa",
   "metadata": {},
   "outputs": [
    {
     "data": {
      "text/plain": [
       "(467614, 28, 28)"
      ]
     },
     "execution_count": 5,
     "metadata": {},
     "output_type": "execute_result"
    }
   ],
   "source": [
    "train_norm_CNN.shape"
   ]
  },
  {
   "cell_type": "code",
   "execution_count": 6,
   "id": "4240edd4",
   "metadata": {},
   "outputs": [],
   "source": [
    "train_norm_CNN = train_norm_CNN.reshape((train_norm_CNN.shape[0], 28, 28, 1)) #CNN expects 3-dimensional inputs\n",
    "test_norm_CNN = test_norm_CNN.reshape((test_norm_CNN.shape[0], 28, 28, 1))"
   ]
  },
  {
   "cell_type": "code",
   "execution_count": 31,
   "id": "c28996b9",
   "metadata": {},
   "outputs": [],
   "source": [
    "train_y = tf.keras.utils.to_categorical(train_y)\n",
    "test_y = tf.keras.utils.to_categorical(test_y)"
   ]
  },
  {
   "cell_type": "code",
   "execution_count": 12,
   "id": "4c6e0f30",
   "metadata": {},
   "outputs": [],
   "source": [
    "batch_size = 64\n",
    "epochs = 10\n",
    "num_classes = 62"
   ]
  },
  {
   "cell_type": "code",
   "execution_count": 6,
   "id": "f0e181fb",
   "metadata": {},
   "outputs": [],
   "source": [
    "model = Sequential()\n",
    "model.add(Conv2D(32, kernel_size=(3, 3),activation='linear',input_shape=(28,28,1),padding='same'))\n",
    "model.add(LeakyReLU(alpha=0.1))\n",
    "model.add(MaxPooling2D((2, 2),padding='same'))\n",
    "model.add(Conv2D(64, (3, 3), activation='linear',padding='same'))\n",
    "model.add(LeakyReLU(alpha=0.1))\n",
    "model.add(MaxPooling2D(pool_size=(2, 2),padding='same'))\n",
    "model.add(Conv2D(128, (3, 3), activation='linear',padding='same'))\n",
    "model.add(LeakyReLU(alpha=0.1))                  \n",
    "model.add(MaxPooling2D(pool_size=(2, 2),padding='same'))\n",
    "model.add(Flatten())\n",
    "model.add(Dense(128, activation='linear'))\n",
    "model.add(LeakyReLU(alpha=0.1))                  \n",
    "model.add(Dense(num_classes, activation='softmax'))"
   ]
  },
  {
   "cell_type": "code",
   "execution_count": 7,
   "id": "3ccf220a",
   "metadata": {},
   "outputs": [
    {
     "name": "stdout",
     "output_type": "stream",
     "text": [
      "Model: \"sequential_1\"\n",
      "_________________________________________________________________\n",
      "Layer (type)                 Output Shape              Param #   \n",
      "=================================================================\n",
      "conv2d_3 (Conv2D)            (None, 28, 28, 32)        320       \n",
      "_________________________________________________________________\n",
      "leaky_re_lu_4 (LeakyReLU)    (None, 28, 28, 32)        0         \n",
      "_________________________________________________________________\n",
      "max_pooling2d_3 (MaxPooling2 (None, 14, 14, 32)        0         \n",
      "_________________________________________________________________\n",
      "conv2d_4 (Conv2D)            (None, 14, 14, 64)        18496     \n",
      "_________________________________________________________________\n",
      "leaky_re_lu_5 (LeakyReLU)    (None, 14, 14, 64)        0         \n",
      "_________________________________________________________________\n",
      "max_pooling2d_4 (MaxPooling2 (None, 7, 7, 64)          0         \n",
      "_________________________________________________________________\n",
      "conv2d_5 (Conv2D)            (None, 7, 7, 128)         73856     \n",
      "_________________________________________________________________\n",
      "leaky_re_lu_6 (LeakyReLU)    (None, 7, 7, 128)         0         \n",
      "_________________________________________________________________\n",
      "max_pooling2d_5 (MaxPooling2 (None, 4, 4, 128)         0         \n",
      "_________________________________________________________________\n",
      "flatten_1 (Flatten)          (None, 2048)              0         \n",
      "_________________________________________________________________\n",
      "dense_1 (Dense)              (None, 128)               262272    \n",
      "_________________________________________________________________\n",
      "leaky_re_lu_7 (LeakyReLU)    (None, 128)               0         \n",
      "_________________________________________________________________\n",
      "dense_2 (Dense)              (None, 62)                7998      \n",
      "=================================================================\n",
      "Total params: 362,942\n",
      "Trainable params: 362,942\n",
      "Non-trainable params: 0\n",
      "_________________________________________________________________\n"
     ]
    }
   ],
   "source": [
    "model.summary()"
   ]
  },
  {
   "cell_type": "code",
   "execution_count": 14,
   "id": "ab2609ad",
   "metadata": {},
   "outputs": [],
   "source": [
    "model.compile(loss=keras.losses.categorical_crossentropy, optimizer=keras.optimizers.Adam(),metrics=['accuracy'])\n",
    "#using adam optimizer\n",
    "tf.config.run_functions_eagerly(True)"
   ]
  },
  {
   "cell_type": "code",
   "execution_count": null,
   "id": "4977f393",
   "metadata": {},
   "outputs": [],
   "source": [
    "leaky_hist = model.fit(train_norm_CNN, train_y, batch_size=batch_size,epochs=epochs,verbose=1)"
   ]
  },
  {
   "cell_type": "code",
   "execution_count": 12,
   "id": "e807d849",
   "metadata": {},
   "outputs": [
    {
     "name": "stdout",
     "output_type": "stream",
     "text": [
      "7198/7198 [==============================] - 219s 30ms/step - loss: 0.4036 - accuracy: 0.8640\n"
     ]
    },
    {
     "data": {
      "text/plain": [
       "[0.40358564257621765, 0.8640097379684448]"
      ]
     },
     "execution_count": 12,
     "metadata": {},
     "output_type": "execute_result"
    }
   ],
   "source": [
    "model.evaluate(test_norm,test_y)"
   ]
  },
  {
   "cell_type": "code",
   "execution_count": 14,
   "id": "c132bd85",
   "metadata": {},
   "outputs": [
    {
     "data": {
      "text/plain": [
       "{'loss': [0.4820551574230194,\n",
       "  0.37227973341941833,\n",
       "  0.3475993573665619,\n",
       "  0.3309286832809448,\n",
       "  0.31792882084846497,\n",
       "  0.30614379048347473,\n",
       "  0.29603472352027893,\n",
       "  0.28671345114707947,\n",
       "  0.2774590849876404,\n",
       "  0.26996123790740967],\n",
       " 'accuracy': [0.8337774276733398,\n",
       "  0.8623608350753784,\n",
       "  0.8691228032112122,\n",
       "  0.8739451766014099,\n",
       "  0.8776170015335083,\n",
       "  0.8811733722686768,\n",
       "  0.8844345808029175,\n",
       "  0.8870350122451782,\n",
       "  0.8897916078567505,\n",
       "  0.8920519948005676]}"
      ]
     },
     "execution_count": 14,
     "metadata": {},
     "output_type": "execute_result"
    }
   ],
   "source": [
    "##to-do; plot loss & accuracy\n",
    "leaky_hist.history"
   ]
  },
  {
   "cell_type": "code",
   "execution_count": 13,
   "id": "69b82f88",
   "metadata": {},
   "outputs": [
    {
     "name": "stdout",
     "output_type": "stream",
     "text": [
      "INFO:tensorflow:Assets written to: models/assets\n"
     ]
    }
   ],
   "source": [
    "model.save('models')"
   ]
  },
  {
   "cell_type": "code",
   "execution_count": 7,
   "id": "2abfcd0e",
   "metadata": {},
   "outputs": [
    {
     "data": {
      "image/png": "[encoded data removed]",
      "text/plain": [
       "<Figure size 432x288 with 1 Axes>"
      ]
     },
     "metadata": {
      "needs_background": "light"
     },
     "output_type": "display_data"
    }
   ],
   "source": [
    "loss = leaky_hist.history['loss']\n",
    "accuracy = leaky_hist.history['accuracy']\n",
    "\n",
    "plt.plot(range(len(loss)),loss,label = 'loss')\n",
    "plt.plot(range(len(loss)),accuracy, label = 'accuracy')\n",
    "plt.title(\"Accuracy and Loss- Leaky ReLU\")\n",
    "plt.xlabel(\"Epochs\")\n",
    "plt.legend();"
   ]
  },
  {
   "cell_type": "markdown",
   "id": "72715b8f",
   "metadata": {},
   "source": [
    "# Make this the first one? CNN ->A couple of fully connected layers. Pretty simple"
   ]
  },
  {
   "cell_type": "code",
   "execution_count": null,
   "id": "ead18d67",
   "metadata": {},
   "outputs": [],
   "source": []
  },
  {
   "cell_type": "code",
   "execution_count": 32,
   "id": "626076cb",
   "metadata": {},
   "outputs": [],
   "source": [
    "arrs = arrs.reshape((arrs.shape[0],28,28,1))\n",
    "X=np.empty((len(arrs),28,28))\n",
    "for i in range(len(arrs)):\n",
    "    X[i]= arrs[i].T\n",
    "\n",
    "train_X, test_X, train_y, test_y = train_test_split(X,labels, test_size=.33)\n",
    "\n",
    "#reshaping to image shapes\n",
    "train_X_CNN = train_X.reshape((train_X.shape[0], 28, 28, 1))\n",
    "test_X_CNN = test_X.reshape((test_X.shape[0], 28, 28, 1))\n",
    "\n",
    "train_norm_CNN = train_X.astype('float32')\n",
    "test_norm_CNN = test_X.astype('float32')\n",
    "# normalize to range [0-1]\n",
    "train_norm_CNN = train_norm_CNN / 255.0\n",
    "test_norm_CNN = test_norm_CNN / 255.0"
   ]
  },
  {
   "cell_type": "code",
   "execution_count": null,
   "id": "c48ba0a6",
   "metadata": {},
   "outputs": [],
   "source": [
    "train_y = tf.keras.utils.to_categorical(train_y)\n",
    "test_y = tf.keras.utils.to_categorical(test_y)"
   ]
  },
  {
   "cell_type": "code",
   "execution_count": 19,
   "id": "60b05770",
   "metadata": {},
   "outputs": [],
   "source": [
    "model = tf.keras.Sequential([ \n",
    "    tf.keras.layers.Conv2D(32,3,input_shape=(28,28,1)),\n",
    "    tf.keras.layers.MaxPooling2D(2,2),\n",
    "    tf.keras.layers.Flatten(input_shape=(28,28,1)),\n",
    "    tf.keras.layers.Dense(512,activation='relu'),\n",
    "    tf.keras.layers.Dense(128,activation='relu'),\n",
    "    tf.keras.layers.Dense(62,activation='softmax')\n",
    "])"
   ]
  },
  {
   "cell_type": "code",
   "execution_count": 20,
   "id": "b8840e35",
   "metadata": {},
   "outputs": [],
   "source": [
    "model.compile(optimizer='adam',loss='categorical_crossentropy',metrics=['accuracy'])"
   ]
  },
  {
   "cell_type": "code",
   "execution_count": 34,
   "id": "c64ec935",
   "metadata": {},
   "outputs": [],
   "source": [
    "tf.config.run_functions_eagerly(True)\n",
    "#helps handle some error I don't quite understand"
   ]
  },
  {
   "cell_type": "code",
   "execution_count": 35,
   "id": "4f85a01b",
   "metadata": {},
   "outputs": [
    {
     "name": "stdout",
     "output_type": "stream",
     "text": [
      "Epoch 1/10\n",
      "7307/7307 [==============================] - 474s 65ms/step - loss: 0.5693 - accuracy: 0.8113\n",
      "Epoch 2/10\n",
      "7307/7307 [==============================] - 477s 65ms/step - loss: 0.4212 - accuracy: 0.8487\n",
      "Epoch 3/10\n",
      "7307/7307 [==============================] - 518s 71ms/step - loss: 0.3854 - accuracy: 0.8578\n",
      "Epoch 4/10\n",
      "7307/7307 [==============================] - 473s 65ms/step - loss: 0.3602 - accuracy: 0.8648\n",
      "Epoch 5/10\n",
      "7307/7307 [==============================] - 435s 60ms/step - loss: 0.3407 - accuracy: 0.8700\n",
      "Epoch 6/10\n",
      "7307/7307 [==============================] - 494s 68ms/step - loss: 0.3253 - accuracy: 0.8747\n",
      "Epoch 7/10\n",
      "7307/7307 [==============================] - 441s 60ms/step - loss: 0.3115 - accuracy: 0.8784\n",
      "Epoch 8/10\n",
      "7307/7307 [==============================] - 434s 59ms/step - loss: 0.2996 - accuracy: 0.8827\n",
      "Epoch 9/10\n",
      "7307/7307 [==============================] - 430s 59ms/step - loss: 0.2899 - accuracy: 0.8860\n",
      "Epoch 10/10\n",
      "7307/7307 [==============================] - 453s 62ms/step - loss: 0.2796 - accuracy: 0.8899\n"
     ]
    }
   ],
   "source": [
    "cnn_hist = model.fit(train_norm_CNN,train_y,batch_size=batch_size,epochs=epochs,verbose=1)"
   ]
  },
  {
   "cell_type": "code",
   "execution_count": 36,
   "id": "38a1a811",
   "metadata": {},
   "outputs": [
    {
     "name": "stdout",
     "output_type": "stream",
     "text": [
      "7198/7198 [==============================] - 113s 16ms/step - loss: 0.5279 - accuracy: 0.8459\n"
     ]
    },
    {
     "data": {
      "text/plain": [
       "[0.5278806686401367, 0.8458826541900635]"
      ]
     },
     "execution_count": 36,
     "metadata": {},
     "output_type": "execute_result"
    }
   ],
   "source": [
    "model.evaluate(test_norm_CNN,test_y)"
   ]
  },
  {
   "cell_type": "code",
   "execution_count": 37,
   "id": "7eabf8a8",
   "metadata": {},
   "outputs": [
    {
     "data": {
      "text/plain": [
       "{'loss': [0.569303572177887,\n",
       "  0.4212033152580261,\n",
       "  0.3853912949562073,\n",
       "  0.36016303300857544,\n",
       "  0.34074538946151733,\n",
       "  0.3252966105937958,\n",
       "  0.3115089237689972,\n",
       "  0.2995729148387909,\n",
       "  0.28991955518722534,\n",
       "  0.2796272933483124],\n",
       " 'accuracy': [0.8113272786140442,\n",
       "  0.8487064242362976,\n",
       "  0.857814371585846,\n",
       "  0.8648329377174377,\n",
       "  0.8699867725372314,\n",
       "  0.8746722936630249,\n",
       "  0.8783911466598511,\n",
       "  0.8827323317527771,\n",
       "  0.886019229888916,\n",
       "  0.8899455666542053]}"
      ]
     },
     "execution_count": 37,
     "metadata": {},
     "output_type": "execute_result"
    }
   ],
   "source": [
    "cnn_hist.history"
   ]
  },
  {
   "cell_type": "code",
   "execution_count": 38,
   "id": "1e0a8755",
   "metadata": {},
   "outputs": [
    {
     "name": "stdout",
     "output_type": "stream",
     "text": [
      "INFO:tensorflow:Assets written to: models/othercnn/assets\n"
     ]
    }
   ],
   "source": [
    "model.save('models/othercnn')"
   ]
  },
  {
   "cell_type": "code",
   "execution_count": 9,
   "id": "85f69302",
   "metadata": {},
   "outputs": [
    {
     "data": {
      "image/png": "[encoded data removed]",
      "text/plain": [
       "<Figure size 432x288 with 1 Axes>"
      ]
     },
     "metadata": {
      "needs_background": "light"
     },
     "output_type": "display_data"
    }
   ],
   "source": [
    "loss = cnn_hist.history['loss']\n",
    "accuracy = cnn_hist.history['accuracy']\n",
    "\n",
    "plt.plot(range(len(loss)),loss,label = 'loss')\n",
    "plt.plot(range(len(loss)),accuracy, label = 'accuracy')\n",
    "plt.title(\"Accuracy and Loss- Simple CNN\")\n",
    "plt.xlabel(\"Epochs\")\n",
    "plt.legend();"
   ]
  },
  {
   "cell_type": "code",
   "execution_count": null,
   "id": "ae630cfb",
   "metadata": {},
   "outputs": [],
   "source": []
  },
  {
   "cell_type": "markdown",
   "id": "c27fc70f",
   "metadata": {},
   "source": [
    "# Last one. In this case, we're using dropout layers in order to prevent overfitting."
   ]
  },
  {
   "cell_type": "code",
   "execution_count": 8,
   "id": "5c9324ae",
   "metadata": {},
   "outputs": [],
   "source": [
    "from keras.layers import BatchNormalization, Dropout\n"
   ]
  },
  {
   "cell_type": "code",
   "execution_count": 3,
   "id": "edd31ef7",
   "metadata": {},
   "outputs": [],
   "source": [
    "train_X, test_X, train_y, test_y = train_test_split(arrs,labels, test_size=.33)"
   ]
  },
  {
   "cell_type": "code",
   "execution_count": 4,
   "id": "bcaa2776",
   "metadata": {},
   "outputs": [],
   "source": [
    "#normalizing, i.e., forcing on (0,1)\n",
    "\n",
    "train_norm = train_X.astype('float32')\n",
    "test_norm = test_X.astype('float32')\n",
    "# normalize to range [0-1]\n",
    "train_norm = train_norm / 255.0\n",
    "test_norm = test_norm / 255.0"
   ]
  },
  {
   "cell_type": "code",
   "execution_count": 5,
   "id": "2c830608",
   "metadata": {},
   "outputs": [],
   "source": [
    "train_y = tf.keras.utils.to_categorical(train_y)\n",
    "test_y = tf.keras.utils.to_categorical(test_y)"
   ]
  },
  {
   "cell_type": "code",
   "execution_count": 6,
   "id": "f76cba85",
   "metadata": {},
   "outputs": [],
   "source": [
    "batch_size = 64\n",
    "epochs = 10\n",
    "num_classes = 62"
   ]
  },
  {
   "cell_type": "code",
   "execution_count": 11,
   "id": "1b2b380c",
   "metadata": {},
   "outputs": [],
   "source": [
    "model = Sequential()\n",
    "model.add(tf.keras.layers.Reshape((28, 28, 1), input_shape=(784,)))\n",
    "model.add(BatchNormalization())\n",
    "model.add(Conv2D(64, (3,3), activation='relu', input_shape=(28,28,1)))\n",
    "model.add(MaxPooling2D((2, 2)))\n",
    "model.add(BatchNormalization())\n",
    "model.add(Dropout(0.4))\n",
    "model.add(Conv2D(128, (3, 3), activation='relu'))\n",
    "model.add(MaxPooling2D((2, 2)))\n",
    "model.add(BatchNormalization())\n",
    "model.add(Dropout(0.4))\n",
    "model.add(Conv2D(256, (3, 3), activation='relu'))\n",
    "model.add(BatchNormalization()) \n",
    "model.add(Dropout(0.4))\n",
    "\n",
    "model.add(Flatten())\n",
    "model.add(Dense(units=200, activation='relu'))\n",
    "model.add(Dense(units=100, activation='relu'))\n",
    "model.add(Dropout(0.3))\n",
    "model.add(Dense(units=62, activation='softmax'))\n",
    "model.compile(\n",
    "optimizer='adam',loss='categorical_crossentropy',metrics=tf.keras.metrics.CategoricalAccuracy())"
   ]
  },
  {
   "cell_type": "code",
   "execution_count": 12,
   "id": "19d32936",
   "metadata": {},
   "outputs": [
    {
     "name": "stdout",
     "output_type": "stream",
     "text": [
      "Epoch 1/10\n",
      "7307/7307 [==============================] - 1082s 144ms/step - loss: 0.9081 - categorical_accuracy: 0.6497\n",
      "Epoch 2/10\n",
      "7307/7307 [==============================] - 989s 135ms/step - loss: 0.4974 - categorical_accuracy: 0.7988\n",
      "Epoch 3/10\n",
      "7307/7307 [==============================] - 999s 137ms/step - loss: 0.4576 - categorical_accuracy: 0.8154\n",
      "Epoch 4/10\n",
      "7307/7307 [==============================] - 1093s 150ms/step - loss: 0.4354 - categorical_accuracy: 0.8243\n",
      "Epoch 5/10\n",
      "7307/7307 [==============================] - 1046s 143ms/step - loss: 0.4195 - categorical_accuracy: 0.8301\n",
      "Epoch 6/10\n",
      "7307/7307 [==============================] - 1025s 140ms/step - loss: 0.4067 - categorical_accuracy: 0.8343\n",
      "Epoch 7/10\n",
      "7307/7307 [==============================] - 1102s 151ms/step - loss: 0.3985 - categorical_accuracy: 0.8375\n",
      "Epoch 8/10\n",
      "7307/7307 [==============================] - 1112s 152ms/step - loss: 0.3919 - categorical_accuracy: 0.8401\n",
      "Epoch 9/10\n",
      "7307/7307 [==============================] - 1133s 155ms/step - loss: 0.3893 - categorical_accuracy: 0.8422\n",
      "Epoch 10/10\n",
      "7307/7307 [==============================] - 1065s 146ms/step - loss: 0.3867 - categorical_accuracy: 0.8439\n"
     ]
    }
   ],
   "source": [
    "dropout_hist=model.fit(train_norm, train_y, epochs=epochs, batch_size=batch_size, verbose=1)"
   ]
  },
  {
   "cell_type": "code",
   "execution_count": 13,
   "id": "76120748",
   "metadata": {},
   "outputs": [
    {
     "name": "stdout",
     "output_type": "stream",
     "text": [
      "7198/7198 [==============================] - 138s 19ms/step - loss: 0.3682 - categorical_accuracy: 0.8455\n"
     ]
    },
    {
     "data": {
      "text/plain": [
       "[0.36818569898605347, 0.845549464225769]"
      ]
     },
     "execution_count": 13,
     "metadata": {},
     "output_type": "execute_result"
    }
   ],
   "source": [
    "model.evaluate(test_norm,test_y)"
   ]
  },
  {
   "cell_type": "code",
   "execution_count": 20,
   "id": "77698013",
   "metadata": {},
   "outputs": [
    {
     "data": {
      "text/plain": [
       "{'loss': [0.6522341966629028,\n",
       "  0.4887202978134155,\n",
       "  0.45505964756011963,\n",
       "  0.4333209693431854,\n",
       "  0.417665034532547,\n",
       "  0.40790557861328125,\n",
       "  0.3999238610267639,\n",
       "  0.39537733793258667,\n",
       "  0.39229488372802734,\n",
       "  0.388421893119812],\n",
       " 'categorical_accuracy': [0.7344292402267456,\n",
       "  0.8041039109230042,\n",
       "  0.818015992641449,\n",
       "  0.8259417414665222,\n",
       "  0.8312522768974304,\n",
       "  0.8351530432701111,\n",
       "  0.8381898403167725,\n",
       "  0.8406895399093628,\n",
       "  0.8426643013954163,\n",
       "  0.8442976474761963]}"
      ]
     },
     "execution_count": 20,
     "metadata": {},
     "output_type": "execute_result"
    }
   ],
   "source": [
    "dropout_hist.history"
   ]
  },
  {
   "cell_type": "code",
   "execution_count": 15,
   "id": "eec6c91d",
   "metadata": {},
   "outputs": [
    {
     "name": "stderr",
     "output_type": "stream",
     "text": [
      "WARNING:absl:Found untraced functions such as reshape_3_layer_call_and_return_conditional_losses, reshape_3_layer_call_fn, reshape_3_layer_call_fn, reshape_3_layer_call_and_return_conditional_losses, reshape_3_layer_call_and_return_conditional_losses while saving (showing 5 of 5). These functions will not be directly callable after loading.\n"
     ]
    },
    {
     "name": "stdout",
     "output_type": "stream",
     "text": [
      "INFO:tensorflow:Assets written to: models/oneMorecnn/assets\n"
     ]
    },
    {
     "name": "stderr",
     "output_type": "stream",
     "text": [
      "INFO:tensorflow:Assets written to: models/oneMorecnn/assets\n"
     ]
    }
   ],
   "source": [
    "model.save('models/oneMorecnn')"
   ]
  },
  {
   "cell_type": "code",
   "execution_count": 10,
   "id": "69d89018",
   "metadata": {},
   "outputs": [
    {
     "data": {
      "image/png": "[encoded data removed]",
      "text/plain": [
       "<Figure size 432x288 with 1 Axes>"
      ]
     },
     "metadata": {
      "needs_background": "light"
     },
     "output_type": "display_data"
    }
   ],
   "source": [
    "loss = dropout_hist.history['loss']\n",
    "accuracy = dropout_hist_hist.history['accuracy']\n",
    "\n",
    "plt.plot(range(len(loss)),loss,label = 'loss')\n",
    "plt.plot(range(len(loss)),accuracy, label = 'accuracy')\n",
    "plt.title(\"Accuracy and Loss- Dropout CNN\")\n",
    "plt.xlabel(\"Epochs\")\n",
    "plt.legend();"
   ]
  },
  {
   "cell_type": "code",
   "execution_count": null,
   "id": "b6e15f6d",
   "metadata": {},
   "outputs": [],
   "source": []
  }
 ],
 "metadata": {
  "kernelspec": {
   "display_name": "Python [conda env:metis] *",
   "language": "python",
   "name": "conda-env-metis-py"
  },
  "language_info": {
   "codemirror_mode": {
    "name": "ipython",
    "version": 3
   },
   "file_extension": ".py",
   "mimetype": "text/x-python",
   "name": "python",
   "nbconvert_exporter": "python",
   "pygments_lexer": "ipython3",
   "version": "3.8.8"
  }
 },
 "nbformat": 4,
 "nbformat_minor": 5
}
